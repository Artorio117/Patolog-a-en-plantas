{
 "cells": [
  {
   "cell_type": "markdown",
   "id": "b7362f04",
   "metadata": {},
   "source": [
    "# Importación de bibliotecas"
   ]
  },
  {
   "cell_type": "code",
   "execution_count": 1,
   "id": "c3656bb7",
   "metadata": {},
   "outputs": [
    {
     "name": "stderr",
     "output_type": "stream",
     "text": [
      "Using TensorFlow backend.\n"
     ]
    }
   ],
   "source": [
    "import os\n",
    "from os import listdir\n",
    "from os.path import isfile,isdir, join\n",
    "\n",
    "\n",
    "from glob import glob\n",
    "import numpy as np\n",
    "import pandas as pd\n",
    "import tensorflow as tf\n",
    "#import cv2\n",
    "import matplotlib.pyplot as plt\n",
    "import matplotlib.image as mpimg\n",
    "\n",
    "\n",
    "import keras\n",
    "from keras.preprocessing import image\n",
    "from keras import layers, models\n",
    "from tensorflow.keras import Sequential\n",
    "from tensorflow.keras.layers import Dense,Conv2D, Dropout,Activation,MaxPooling2D,Flatten\n",
    "from keras.preprocessing.image import ImageDataGenerator\n",
    "from tensorflow.keras.optimizers import RMSprop, SGD\n",
    "\n",
    "#pip install sklearn\n",
    "#pip install scikit-image\n",
    "from sklearn.model_selection import train_test_split\n",
    "#from skimage import color, io\n",
    "#from scipy.misc import imresize  ## deprecated\n",
    "from PIL import Image\n",
    "\n",
    "import datetime"
   ]
  },
  {
   "cell_type": "markdown",
   "id": "5c6c30da",
   "metadata": {},
   "source": [
    "# Carga de imágenes"
   ]
  },
  {
   "cell_type": "code",
   "execution_count": 2,
   "id": "66faade5",
   "metadata": {},
   "outputs": [
    {
     "name": "stderr",
     "output_type": "stream",
     "text": [
      "C:\\Users\\artur\\anaconda3\\envs\\negative_creep\\lib\\site-packages\\keras_preprocessing\\image\\dataframe_iterator.py:282: UserWarning: Found 1863 invalid image filename(s) in x_col=\"image\". These filename(s) will be ignored.\n",
      "  .format(n_invalid, x_col)\n"
     ]
    },
    {
     "name": "stdout",
     "output_type": "stream",
     "text": [
      "Found 16769 validated image filenames belonging to 12 classes.\n",
      "{'complex': 0, 'frog_eye_leaf_spot': 1, 'frog_eye_leaf_spot complex': 2, 'healthy': 3, 'powdery_mildew': 4, 'powdery_mildew complex': 5, 'rust': 6, 'rust complex': 7, 'rust frog_eye_leaf_spot': 8, 'scab': 9, 'scab frog_eye_leaf_spot': 10, 'scab frog_eye_leaf_spot complex': 11}\n",
      "Found 1863 validated image filenames belonging to 12 classes.\n",
      "{'complex': 0, 'frog_eye_leaf_spot': 1, 'frog_eye_leaf_spot complex': 2, 'healthy': 3, 'powdery_mildew': 4, 'powdery_mildew complex': 5, 'rust': 6, 'rust complex': 7, 'rust frog_eye_leaf_spot': 8, 'scab': 9, 'scab frog_eye_leaf_spot': 10, 'scab frog_eye_leaf_spot complex': 11}\n"
     ]
    },
    {
     "name": "stderr",
     "output_type": "stream",
     "text": [
      "C:\\Users\\artur\\anaconda3\\envs\\negative_creep\\lib\\site-packages\\keras_preprocessing\\image\\dataframe_iterator.py:282: UserWarning: Found 16769 invalid image filename(s) in x_col=\"image\". These filename(s) will be ignored.\n",
      "  .format(n_invalid, x_col)\n"
     ]
    }
   ],
   "source": [
    "#Tamaño de la imagen\n",
    "ih, iw = 120, 120\n",
    "#Forma de la imagen: alto, ancho y número de canales\n",
    "input_shape = (ih, iw, 3)\n",
    "\n",
    "\n",
    "#Número de clases\n",
    "num_class = 12\n",
    "#Cuantas veces entrenar\n",
    "epochs = 30\n",
    "\n",
    "\n",
    "# Batch para hacer cada entrenamiento.\n",
    "# Lee 50 'batch_size' imagenes antes de actualizar los parametros.\n",
    "# Las carga a memoria\n",
    "batch_size = 50 #1\n",
    "\n",
    "\n",
    "# Número de imagenes en train\n",
    "num_train = 16769 #18632\n",
    "#Número de imagenes en test\n",
    "num_test = 1863\n",
    "\n",
    "\n",
    "epoch_steps = num_train // batch_size\n",
    "test_steps = num_test // batch_size\n",
    "\n",
    "\n",
    "\"\"\" Imágenes de entrenamiento \"\"\"\n",
    "train_f = pd.read_csv('train.csv')\n",
    "\n",
    "gentrain = ImageDataGenerator(rescale = 1. / 255)\n",
    "\n",
    "train_ds = gentrain.flow_from_dataframe(train_f,directory = 'train_set',\n",
    "                                             x_col = 'image',\n",
    "                                             y_col = 'labels',\n",
    "                                             batch_size=batch_size,\n",
    "                                             target_size=(iw, ih),\n",
    "                                             class_mode = 'categorical')\n",
    "\n",
    "print(train_ds.class_indices)\n",
    "\n",
    "\"\"\" Imágenes de prueba \"\"\"\n",
    "\n",
    "test_f = pd.read_csv('train.csv')\n",
    "\n",
    "gentest = ImageDataGenerator(rescale=1. / 255)\n",
    "\n",
    "test_ds = gentest.flow_from_dataframe(test_f,directory = 'test_set',\n",
    "                                             x_col = 'image',\n",
    "                                             y_col = 'labels',\n",
    "                                             batch_size=batch_size,\n",
    "                                             target_size=(iw, ih),\n",
    "                                             class_mode = 'categorical')\n",
    "\n",
    "print(test_ds.class_indices)\n",
    "\n",
    "#para cargar pesos de la red desde donde se quedó la ultima vez\n",
    "#filename = \"cvsd.h5\"\n",
    "#model.load_weights(filename)  #comentar si se comienza desde cero.\n",
    "###\n",
    "\n"
   ]
  },
  {
   "cell_type": "markdown",
   "id": "33e3efee",
   "metadata": {},
   "source": [
    "# Modelo y entrenamiento"
   ]
  },
  {
   "cell_type": "code",
   "execution_count": 4,
   "id": "6c972ec7",
   "metadata": {},
   "outputs": [
    {
     "name": "stdout",
     "output_type": "stream",
     "text": [
      "Logs:\n",
      "logs/fit/20220510-120613\n",
      "______________________________________________________________\n",
      "Epoch 1/30\n",
      "335/335 [==============================] - 11281s 34s/step - loss: 1.8897 - accuracy: 0.2859 - val_loss: 1.7104 - val_accuracy: 0.3476\n",
      "Epoch 2/30\n",
      "335/335 [==============================] - 7310s 22s/step - loss: 1.7037 - accuracy: 0.3585 - val_loss: 1.5690 - val_accuracy: 0.4497\n",
      "Epoch 3/30\n",
      "335/335 [==============================] - 7353s 22s/step - loss: 1.6485 - accuracy: 0.3892 - val_loss: 1.6377 - val_accuracy: 0.4297\n",
      "Epoch 4/30\n",
      "335/335 [==============================] - 7212s 22s/step - loss: 1.5968 - accuracy: 0.4145 - val_loss: 1.5130 - val_accuracy: 0.4730\n",
      "Epoch 5/30\n",
      "335/335 [==============================] - 7207s 22s/step - loss: 1.5643 - accuracy: 0.4288 - val_loss: 1.5497 - val_accuracy: 0.4995\n",
      "Epoch 6/30\n",
      "335/335 [==============================] - 7171s 21s/step - loss: 1.5365 - accuracy: 0.4426 - val_loss: 1.4637 - val_accuracy: 0.4995\n",
      "Epoch 7/30\n",
      "335/335 [==============================] - 7204s 22s/step - loss: 1.4966 - accuracy: 0.4559 - val_loss: 1.4213 - val_accuracy: 0.5027\n",
      "Epoch 8/30\n",
      "335/335 [==============================] - 7220s 22s/step - loss: 1.4699 - accuracy: 0.4710 - val_loss: 1.4330 - val_accuracy: 0.4886\n",
      "Epoch 9/30\n",
      "335/335 [==============================] - 7070s 21s/step - loss: 1.4423 - accuracy: 0.4820 - val_loss: 1.3718 - val_accuracy: 0.5346\n",
      "Epoch 10/30\n",
      "335/335 [==============================] - 7069s 21s/step - loss: 1.4079 - accuracy: 0.4987 - val_loss: 1.3246 - val_accuracy: 0.5622\n",
      "Epoch 11/30\n",
      "335/335 [==============================] - 7206s 22s/step - loss: 1.3732 - accuracy: 0.5052 - val_loss: 1.2807 - val_accuracy: 0.5784\n",
      "Epoch 12/30\n",
      "335/335 [==============================] - 7169s 21s/step - loss: 1.3508 - accuracy: 0.5201 - val_loss: 1.2785 - val_accuracy: 0.5903\n",
      "Epoch 13/30\n",
      "335/335 [==============================] - 7278s 22s/step - loss: 1.3197 - accuracy: 0.5346 - val_loss: 1.2568 - val_accuracy: 0.5951\n",
      "Epoch 14/30\n",
      "335/335 [==============================] - 7299s 22s/step - loss: 1.2848 - accuracy: 0.5535 - val_loss: 1.2253 - val_accuracy: 0.5816\n",
      "Epoch 15/30\n",
      "335/335 [==============================] - 7459s 22s/step - loss: 1.2535 - accuracy: 0.5547 - val_loss: 1.2081 - val_accuracy: 0.5903\n",
      "Epoch 16/30\n",
      "335/335 [==============================] - 7296s 22s/step - loss: 1.2221 - accuracy: 0.5676 - val_loss: 1.1629 - val_accuracy: 0.6070\n",
      "Epoch 17/30\n",
      "335/335 [==============================] - 7161s 21s/step - loss: 1.1970 - accuracy: 0.5780 - val_loss: 1.1288 - val_accuracy: 0.6238\n",
      "Epoch 18/30\n",
      "335/335 [==============================] - 7601s 23s/step - loss: 1.1645 - accuracy: 0.5828 - val_loss: 1.1015 - val_accuracy: 0.6297\n",
      "Epoch 19/30\n",
      "335/335 [==============================] - 7145s 21s/step - loss: 1.1549 - accuracy: 0.5943 - val_loss: 1.0831 - val_accuracy: 0.6443\n",
      "Epoch 20/30\n",
      "335/335 [==============================] - 7226s 22s/step - loss: 1.1322 - accuracy: 0.6003 - val_loss: 1.0633 - val_accuracy: 0.6519\n",
      "Epoch 21/30\n",
      "335/335 [==============================] - 7175s 21s/step - loss: 1.0857 - accuracy: 0.6137 - val_loss: 1.0445 - val_accuracy: 0.6405\n",
      "Epoch 22/30\n",
      "335/335 [==============================] - 7166s 21s/step - loss: 1.0756 - accuracy: 0.6266 - val_loss: 1.0507 - val_accuracy: 0.6573\n",
      "Epoch 23/30\n",
      "335/335 [==============================] - 7214s 22s/step - loss: 1.0650 - accuracy: 0.6235 - val_loss: 1.0350 - val_accuracy: 0.6443\n",
      "Epoch 24/30\n",
      "335/335 [==============================] - 8528s 25s/step - loss: 1.0424 - accuracy: 0.6315 - val_loss: 1.0147 - val_accuracy: 0.6557\n",
      "Epoch 25/30\n",
      "335/335 [==============================] - 7669s 23s/step - loss: 1.0136 - accuracy: 0.6509 - val_loss: 1.0392 - val_accuracy: 0.6405\n",
      "Epoch 26/30\n",
      "335/335 [==============================] - 7287s 22s/step - loss: 0.9964 - accuracy: 0.6499 - val_loss: 1.0129 - val_accuracy: 0.6573\n",
      "Epoch 27/30\n",
      "335/335 [==============================] - 8012s 24s/step - loss: 0.9926 - accuracy: 0.6554 - val_loss: 1.0203 - val_accuracy: 0.6676\n",
      "Epoch 28/30\n",
      "335/335 [==============================] - 7942s 24s/step - loss: 0.9609 - accuracy: 0.6639 - val_loss: 0.9757 - val_accuracy: 0.6795\n",
      "Epoch 29/30\n",
      "335/335 [==============================] - 7565s 23s/step - loss: 0.9482 - accuracy: 0.6699 - val_loss: 0.9546 - val_accuracy: 0.6827\n",
      "Epoch 30/30\n",
      "335/335 [==============================] - 7366s 22s/step - loss: 0.9319 - accuracy: 0.6744 - val_loss: 0.9522 - val_accuracy: 0.6778\n"
     ]
    }
   ],
   "source": [
    "model = Sequential()\n",
    "model.add(Conv2D(10, (3, 3), input_shape=(ih, iw,3))) #50, 50\n",
    "model.add(Activation('relu'))\n",
    "model.add(MaxPooling2D(pool_size=(2, 2)))\n",
    "\n",
    "model.add(Conv2D(10, (3, 3)))\n",
    "model.add(Activation('relu'))\n",
    "model.add(MaxPooling2D(pool_size=(2, 2)))\n",
    "model.add(Dropout(0.2))\n",
    "\n",
    "model.add(Conv2D(20, (3, 3)))\n",
    "model.add(Activation('relu'))\n",
    "model.add(MaxPooling2D(pool_size=(2, 2)))\n",
    "model.add(Dropout(0.2))\n",
    "\n",
    "model.add(Flatten())\n",
    "model.add(Dense(64))\n",
    "model.add(Activation('relu'))\n",
    "model.add(Dropout(0.5))\n",
    "model.add(Dense(12))\n",
    "model.add(Activation('softmax'))\n",
    "\n",
    "\n",
    "model.compile(loss='categorical_crossentropy',\n",
    "              optimizer='adam',\n",
    "              metrics=['accuracy'])\n",
    "\n",
    "\n",
    "log_dir=\"logs/fit/\" + datetime.datetime.now().strftime(\"%Y%m%d-%H%M%S\")\n",
    "tbCallBack = keras.callbacks.TensorBoard(log_dir=log_dir,\n",
    "                                         histogram_freq=1, \n",
    "                                         write_graph=True, \n",
    "                                         write_images=True)\n",
    "#python -m tensorboard.main --logdir=/Graph  <- Para correr Tensor board\n",
    "#tensorboard  --logdir Graph/\n",
    "print('Logs:')\n",
    "print(log_dir)\n",
    "print('______________________________________________________________')\n",
    "\n",
    "\n",
    "history = model.fit_generator(\n",
    "                train_ds,\n",
    "                steps_per_epoch=epoch_steps,\n",
    "                epochs=epochs,\n",
    "                validation_data=test_ds,\n",
    "                validation_steps=test_steps,\n",
    "                callbacks=[tbCallBack]\n",
    "                )"
   ]
  },
  {
   "cell_type": "markdown",
   "id": "797ce68e",
   "metadata": {},
   "source": [
    "## Guardando los pesos"
   ]
  },
  {
   "cell_type": "code",
   "execution_count": 5,
   "id": "0618f7e5",
   "metadata": {},
   "outputs": [],
   "source": [
    "model.save_weights('Conv2D_weights_no_fitting3.h5')"
   ]
  },
  {
   "cell_type": "markdown",
   "id": "80d305f7",
   "metadata": {},
   "source": [
    "# Resumen del modelo y gráficas"
   ]
  },
  {
   "cell_type": "code",
   "execution_count": 7,
   "id": "29859a27",
   "metadata": {},
   "outputs": [
    {
     "name": "stdout",
     "output_type": "stream",
     "text": [
      "dict_keys(['loss', 'accuracy', 'val_loss', 'val_accuracy'])\n"
     ]
    },
    {
     "data": {
      "image/png": "[encoded data removed]",
      "text/plain": [
       "<Figure size 432x288 with 1 Axes>"
      ]
     },
     "metadata": {
      "needs_background": "light"
     },
     "output_type": "display_data"
    },
    {
     "data": {
      "image/png": "[encoded data removed]",
      "text/plain": [
       "<Figure size 432x288 with 1 Axes>"
      ]
     },
     "metadata": {
      "needs_background": "light"
     },
     "output_type": "display_data"
    }
   ],
   "source": [
    "print(history.history.keys())\n",
    "\n",
    "plt.style.use('bmh')\n",
    "# summarize history for accuracy\n",
    "plt.plot(history.history['accuracy'])\n",
    "plt.plot(history.history['val_accuracy'])\n",
    "plt.title('model accuracy')\n",
    "plt.ylabel('accuracy')\n",
    "plt.xlabel('epoch')\n",
    "plt.legend(['train', 'test'], loc='upper left')\n",
    "plt.savefig('Conv2D_accuracy_nofitting3.svg')\n",
    "plt.show()\n",
    "\n",
    "# summarize history for loss\n",
    "plt.plot(history.history['loss'])\n",
    "plt.plot(history.history['val_loss'])\n",
    "plt.title('model loss')\n",
    "plt.ylabel('loss')\n",
    "plt.xlabel('epoch')\n",
    "plt.legend(['train', 'test'], loc='upper left')\n",
    "plt.savefig('Conv2D_loss_nofitting3.svg')\n",
    "plt.show()"
   ]
  },
  {
   "cell_type": "code",
   "execution_count": null,
   "id": "49a2e9cd",
   "metadata": {},
   "outputs": [],
   "source": []
  }
 ],
 "metadata": {
  "kernelspec": {
   "display_name": "Python 3 (ipykernel)",
   "language": "python",
   "name": "python3"
  },
  "language_info": {
   "codemirror_mode": {
    "name": "ipython",
    "version": 3
   },
   "file_extension": ".py",
   "mimetype": "text/x-python",
   "name": "python",
   "nbconvert_exporter": "python",
   "pygments_lexer": "ipython3",
   "version": "3.7.13"
  }
 },
 "nbformat": 4,
 "nbformat_minor": 5
}
