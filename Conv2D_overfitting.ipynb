{
 "cells": [
  {
   "cell_type": "markdown",
   "id": "b7362f04",
   "metadata": {},
   "source": [
    "# Importación de bibliotecas"
   ]
  },
  {
   "cell_type": "code",
   "execution_count": 1,
   "id": "c3656bb7",
   "metadata": {},
   "outputs": [
    {
     "name": "stderr",
     "output_type": "stream",
     "text": [
      "Using TensorFlow backend.\n"
     ]
    }
   ],
   "source": [
    "import os\n",
    "from os import listdir\n",
    "from os.path import isfile,isdir, join\n",
    "\n",
    "\n",
    "from glob import glob\n",
    "import numpy as np\n",
    "import pandas as pd\n",
    "import tensorflow as tf\n",
    "#import cv2\n",
    "import matplotlib.pyplot as plt\n",
    "import matplotlib.image as mpimg\n",
    "\n",
    "\n",
    "import keras\n",
    "from keras.preprocessing import image\n",
    "from keras import layers, models\n",
    "from tensorflow.keras import Sequential\n",
    "from tensorflow.keras.layers import Dense,Conv2D, Dropout,Activation,MaxPooling2D,Flatten\n",
    "from keras.preprocessing.image import ImageDataGenerator\n",
    "from tensorflow.keras.optimizers import RMSprop, SGD\n",
    "\n",
    "#pip install sklearn\n",
    "#pip install scikit-image\n",
    "from sklearn.model_selection import train_test_split\n",
    "#from skimage import color, io\n",
    "#from scipy.misc import imresize  ## deprecated\n",
    "from PIL import Image\n",
    "\n",
    "import datetime"
   ]
  },
  {
   "cell_type": "markdown",
   "id": "5c6c30da",
   "metadata": {},
   "source": [
    "# Carga de imágenes"
   ]
  },
  {
   "cell_type": "code",
   "execution_count": 11,
   "id": "66faade5",
   "metadata": {},
   "outputs": [
    {
     "name": "stdout",
     "output_type": "stream",
     "text": [
      "Found 2000 validated image filenames belonging to 12 classes.\n",
      "{'complex': 0, 'frog_eye_leaf_spot': 1, 'frog_eye_leaf_spot complex': 2, 'healthy': 3, 'powdery_mildew': 4, 'powdery_mildew complex': 5, 'rust': 6, 'rust complex': 7, 'rust frog_eye_leaf_spot': 8, 'scab': 9, 'scab frog_eye_leaf_spot': 10, 'scab frog_eye_leaf_spot complex': 11}\n",
      "Found 200 validated image filenames belonging to 12 classes.\n",
      "{'complex': 0, 'frog_eye_leaf_spot': 1, 'frog_eye_leaf_spot complex': 2, 'healthy': 3, 'powdery_mildew': 4, 'powdery_mildew complex': 5, 'rust': 6, 'rust complex': 7, 'rust frog_eye_leaf_spot': 8, 'scab': 9, 'scab frog_eye_leaf_spot': 10, 'scab frog_eye_leaf_spot complex': 11}\n"
     ]
    }
   ],
   "source": [
    "#Tamaño de la imagen\n",
    "ih, iw = 224, 224\n",
    "#Forma de la imagen: alto, ancho y número de canales\n",
    "input_shape = (ih, iw, 3)\n",
    "\n",
    "\n",
    "#Número de clases\n",
    "num_class = 12\n",
    "#Cuantas veces entrenar\n",
    "epochs = 30\n",
    "\n",
    "\n",
    "# Batch para hacer cada entrenamiento.\n",
    "# Lee 50 'batch_size' imagenes antes de actualizar los parametros.\n",
    "# Las carga a memoria\n",
    "batch_size = 50 #1\n",
    "\n",
    "\n",
    "# Número de imagenes en train\n",
    "num_train = 2000 #18632\n",
    "#Número de imagenes en test\n",
    "num_test = 200\n",
    "\n",
    "\n",
    "epoch_steps = num_train // batch_size\n",
    "test_steps = num_test // batch_size\n",
    "\n",
    "\n",
    "\"\"\" Imágenes de entrenamiento \"\"\"\n",
    "train_f = pd.read_csv('train.csv')\n",
    "\n",
    "gentrain = ImageDataGenerator(rescale = 1. / 255)\n",
    "\n",
    "train_ds = gentrain.flow_from_dataframe(train_f,directory = 'minitrain_images',\n",
    "                                             x_col = 'image',\n",
    "                                             y_col = 'labels',\n",
    "                                             batch_size=batch_size,\n",
    "                                             target_size=(iw, ih),\n",
    "                                             class_mode = 'categorical')\n",
    "\n",
    "print(train_ds.class_indices)\n",
    "\n",
    "\"\"\" Imágenes de prueba \"\"\"\n",
    "\n",
    "test_f = pd.read_csv('train.csv')\n",
    "\n",
    "gentest = ImageDataGenerator(rescale=1. / 255)\n",
    "\n",
    "test_ds = gentest.flow_from_dataframe(test_f,directory = 'minitest_images',\n",
    "                                             x_col = 'image',\n",
    "                                             y_col = 'labels',\n",
    "                                             batch_size=batch_size,\n",
    "                                             target_size=(iw, ih),\n",
    "                                             class_mode = 'categorical')\n",
    "\n",
    "print(test_ds.class_indices)\n",
    "\n",
    "#para cargar pesos de la red desde donde se quedó la ultima vez\n",
    "#filename = \"cvsd.h5\"\n",
    "#model.load_weights(filename)  #comentar si se comienza desde cero.\n",
    "###\n",
    "\n"
   ]
  },
  {
   "cell_type": "markdown",
   "id": "33e3efee",
   "metadata": {},
   "source": [
    "# Modelo y entrenamiento"
   ]
  },
  {
   "cell_type": "code",
   "execution_count": 12,
   "id": "6c972ec7",
   "metadata": {},
   "outputs": [
    {
     "name": "stdout",
     "output_type": "stream",
     "text": [
      "Logs:\n",
      "logs/fit/20220508-005547\n",
      "______________________________________________________________\n",
      "Epoch 1/30\n",
      "40/40 [==============================] - 4450s 111s/step - loss: 2.1214 - accuracy: 0.2525 - val_loss: 1.8534 - val_accuracy: 0.2750\n",
      "Epoch 2/30\n",
      "40/40 [==============================] - 4417s 110s/step - loss: 1.8946 - accuracy: 0.3025 - val_loss: 1.7402 - val_accuracy: 0.3700\n",
      "Epoch 3/30\n",
      "40/40 [==============================] - 4390s 110s/step - loss: 1.7517 - accuracy: 0.3780 - val_loss: 1.6742 - val_accuracy: 0.3700\n",
      "Epoch 4/30\n",
      "40/40 [==============================] - 4476s 112s/step - loss: 1.6851 - accuracy: 0.3980 - val_loss: 1.6332 - val_accuracy: 0.4100\n",
      "Epoch 5/30\n",
      "40/40 [==============================] - 4396s 110s/step - loss: 1.6108 - accuracy: 0.4325 - val_loss: 1.6773 - val_accuracy: 0.4000\n",
      "Epoch 6/30\n",
      "40/40 [==============================] - 4377s 109s/step - loss: 1.5627 - accuracy: 0.4385 - val_loss: 1.6992 - val_accuracy: 0.3550\n",
      "Epoch 7/30\n",
      "40/40 [==============================] - 4456s 111s/step - loss: 1.5931 - accuracy: 0.4290 - val_loss: 1.6626 - val_accuracy: 0.4500\n",
      "Epoch 8/30\n",
      "40/40 [==============================] - 4401s 110s/step - loss: 1.5255 - accuracy: 0.4565 - val_loss: 1.7991 - val_accuracy: 0.3450\n",
      "Epoch 9/30\n",
      "40/40 [==============================] - 4410s 110s/step - loss: 1.4908 - accuracy: 0.4710 - val_loss: 1.8197 - val_accuracy: 0.3350\n",
      "Epoch 10/30\n",
      "40/40 [==============================] - 4472s 112s/step - loss: 1.4676 - accuracy: 0.4795 - val_loss: 1.6765 - val_accuracy: 0.4150\n",
      "Epoch 11/30\n",
      "40/40 [==============================] - 4395s 110s/step - loss: 1.3683 - accuracy: 0.5160 - val_loss: 1.6611 - val_accuracy: 0.4050\n",
      "Epoch 12/30\n",
      "40/40 [==============================] - 4402s 110s/step - loss: 1.3217 - accuracy: 0.5400 - val_loss: 1.8701 - val_accuracy: 0.3850\n",
      "Epoch 13/30\n",
      "40/40 [==============================] - 4430s 111s/step - loss: 1.2607 - accuracy: 0.5605 - val_loss: 1.7853 - val_accuracy: 0.4400\n",
      "Epoch 14/30\n",
      "40/40 [==============================] - 4402s 110s/step - loss: 1.1819 - accuracy: 0.5855 - val_loss: 1.9298 - val_accuracy: 0.3950\n",
      "Epoch 15/30\n",
      "40/40 [==============================] - 4392s 110s/step - loss: 1.0875 - accuracy: 0.6235 - val_loss: 2.0340 - val_accuracy: 0.3800\n",
      "Epoch 16/30\n",
      "40/40 [==============================] - 4416s 110s/step - loss: 0.9616 - accuracy: 0.6565 - val_loss: 2.0404 - val_accuracy: 0.4050\n",
      "Epoch 17/30\n",
      "40/40 [==============================] - 4437s 111s/step - loss: 0.9011 - accuracy: 0.6770 - val_loss: 2.1776 - val_accuracy: 0.3550\n",
      "Epoch 18/30\n",
      "40/40 [==============================] - 4412s 110s/step - loss: 0.7649 - accuracy: 0.7340 - val_loss: 2.4510 - val_accuracy: 0.3750\n",
      "Epoch 19/30\n",
      "40/40 [==============================] - 4409s 110s/step - loss: 0.6622 - accuracy: 0.7465 - val_loss: 2.6669 - val_accuracy: 0.3900\n",
      "Epoch 20/30\n",
      "40/40 [==============================] - 4388s 110s/step - loss: 0.5611 - accuracy: 0.7925 - val_loss: 3.3580 - val_accuracy: 0.3500\n",
      "Epoch 21/30\n",
      "40/40 [==============================] - 4411s 110s/step - loss: 0.4916 - accuracy: 0.8205 - val_loss: 2.8807 - val_accuracy: 0.3850\n",
      "Epoch 22/30\n",
      "40/40 [==============================] - 4388s 110s/step - loss: 0.4473 - accuracy: 0.8375 - val_loss: 3.2784 - val_accuracy: 0.3500\n",
      "Epoch 23/30\n",
      "40/40 [==============================] - 4492s 112s/step - loss: 0.3978 - accuracy: 0.8550 - val_loss: 3.5104 - val_accuracy: 0.3600\n",
      "Epoch 24/30\n",
      "40/40 [==============================] - 4398s 110s/step - loss: 0.2971 - accuracy: 0.8925 - val_loss: 4.3465 - val_accuracy: 0.3000\n",
      "Epoch 25/30\n",
      "40/40 [==============================] - 4389s 110s/step - loss: 0.2838 - accuracy: 0.9005 - val_loss: 3.6074 - val_accuracy: 0.3750\n",
      "Epoch 26/30\n",
      "40/40 [==============================] - 4488s 112s/step - loss: 0.2577 - accuracy: 0.9015 - val_loss: 4.6025 - val_accuracy: 0.3700\n",
      "Epoch 27/30\n",
      "40/40 [==============================] - 4388s 110s/step - loss: 0.2355 - accuracy: 0.9185 - val_loss: 4.3593 - val_accuracy: 0.3550\n",
      "Epoch 28/30\n",
      "40/40 [==============================] - 4422s 111s/step - loss: 0.2174 - accuracy: 0.9210 - val_loss: 5.2761 - val_accuracy: 0.3850\n",
      "Epoch 29/30\n",
      "40/40 [==============================] - 4437s 111s/step - loss: 0.1788 - accuracy: 0.9370 - val_loss: 5.4112 - val_accuracy: 0.3400\n",
      "Epoch 30/30\n",
      "40/40 [==============================] - 4486s 112s/step - loss: 0.1689 - accuracy: 0.9390 - val_loss: 5.0108 - val_accuracy: 0.3650\n"
     ]
    }
   ],
   "source": [
    "model = Sequential()\n",
    "model.add(Conv2D(32, (5, 5), input_shape=(ih, iw,3))) #50, 50\n",
    "model.add(Activation('relu'))\n",
    "model.add(MaxPooling2D(pool_size=(2, 2)))\n",
    "\n",
    "\n",
    "model.add(Conv2D(64, (5, 5)))\n",
    "model.add(Activation('relu'))\n",
    "model.add(MaxPooling2D(pool_size=(2, 2)))\n",
    "\n",
    "\n",
    "model.add(Conv2D(128, (5, 5)))\n",
    "model.add(Activation('relu'))\n",
    "model.add(MaxPooling2D(pool_size=(2, 2)))\n",
    "\n",
    "\n",
    "model.add(Flatten())\n",
    "model.add(Dense(64))\n",
    "model.add(Activation('relu'))\n",
    "model.add(Dropout(0.2))\n",
    "model.add(Dense(12))\n",
    "model.add(Activation('softmax'))\n",
    "\n",
    "\n",
    "model.compile(loss='categorical_crossentropy',\n",
    "              optimizer='adam',\n",
    "              metrics=['accuracy'])\n",
    "\n",
    "\n",
    "log_dir=\"logs/fit/\" + datetime.datetime.now().strftime(\"%Y%m%d-%H%M%S\")\n",
    "tbCallBack = keras.callbacks.TensorBoard(log_dir=log_dir,\n",
    "                                         histogram_freq=1, \n",
    "                                         write_graph=True, \n",
    "                                         write_images=True)\n",
    "#python -m tensorboard.main --logdir=/Graph  <- Para correr Tensor board\n",
    "#tensorboard  --logdir Graph/\n",
    "print('Logs:')\n",
    "print(log_dir)\n",
    "print('______________________________________________________________')\n",
    "\n",
    "\n",
    "history = model.fit_generator(\n",
    "                train_ds,\n",
    "                steps_per_epoch=epoch_steps,\n",
    "                epochs=epochs,\n",
    "                validation_data=test_ds,\n",
    "                validation_steps=test_steps,\n",
    "                callbacks=[tbCallBack]\n",
    "                )"
   ]
  },
  {
   "cell_type": "markdown",
   "id": "797ce68e",
   "metadata": {},
   "source": [
    "## Guardando los pesos"
   ]
  },
  {
   "cell_type": "code",
   "execution_count": 13,
   "id": "0618f7e5",
   "metadata": {},
   "outputs": [],
   "source": [
    "model.save_weights('Conv2D_weights.h5')"
   ]
  },
  {
   "cell_type": "markdown",
   "id": "80d305f7",
   "metadata": {},
   "source": [
    "# Resumen del modelo y gráficas"
   ]
  },
  {
   "cell_type": "code",
   "execution_count": 15,
   "id": "29859a27",
   "metadata": {},
   "outputs": [
    {
     "name": "stdout",
     "output_type": "stream",
     "text": [
      "dict_keys(['loss', 'accuracy', 'val_loss', 'val_accuracy'])\n"
     ]
    },
    {
     "data": {
      "image/png": "[encoded data removed]",
      "text/plain": [
       "<Figure size 432x288 with 1 Axes>"
      ]
     },
     "metadata": {
      "needs_background": "light"
     },
     "output_type": "display_data"
    },
    {
     "data": {
      "image/png": "[encoded data removed]",
      "text/plain": [
       "<Figure size 432x288 with 1 Axes>"
      ]
     },
     "metadata": {
      "needs_background": "light"
     },
     "output_type": "display_data"
    }
   ],
   "source": [
    "print(history.history.keys())\n",
    "\n",
    "# summarize history for accuracy\n",
    "plt.plot(history.history['accuracy'])\n",
    "plt.plot(history.history['val_accuracy'])\n",
    "plt.title('model accuracy')\n",
    "plt.ylabel('accuracy')\n",
    "plt.xlabel('epoch')\n",
    "plt.legend(['train', 'test'], loc='upper left')\n",
    "plt.savefig('Conv2D_accuracy.svg')\n",
    "plt.show()\n",
    "\n",
    "# summarize history for loss\n",
    "plt.plot(history.history['loss'])\n",
    "plt.plot(history.history['val_loss'])\n",
    "plt.title('model loss')\n",
    "plt.ylabel('loss')\n",
    "plt.xlabel('epoch')\n",
    "plt.legend(['train', 'test'], loc='upper left')\n",
    "plt.savefig('Conv2D_loss.svg')\n",
    "plt.show()"
   ]
  },
  {
   "cell_type": "code",
   "execution_count": null,
   "id": "49a2e9cd",
   "metadata": {},
   "outputs": [],
   "source": []
  }
 ],
 "metadata": {
  "kernelspec": {
   "display_name": "Python 3 (ipykernel)",
   "language": "python",
   "name": "python3"
  },
  "language_info": {
   "codemirror_mode": {
    "name": "ipython",
    "version": 3
   },
   "file_extension": ".py",
   "mimetype": "text/x-python",
   "name": "python",
   "nbconvert_exporter": "python",
   "pygments_lexer": "ipython3",
   "version": "3.7.13"
  }
 },
 "nbformat": 4,
 "nbformat_minor": 5
}
