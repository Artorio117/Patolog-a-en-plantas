{
 "cells": [
  {
   "cell_type": "markdown",
   "id": "b7362f04",
   "metadata": {},
   "source": [
    "# Importación de bibliotecas"
   ]
  },
  {
   "cell_type": "code",
   "execution_count": 1,
   "id": "c3656bb7",
   "metadata": {},
   "outputs": [
    {
     "name": "stderr",
     "output_type": "stream",
     "text": [
      "Using TensorFlow backend.\n"
     ]
    }
   ],
   "source": [
    "import os\n",
    "from os import listdir\n",
    "from os.path import isfile,isdir, join\n",
    "\n",
    "\n",
    "from glob import glob\n",
    "import numpy as np\n",
    "import pandas as pd\n",
    "import tensorflow as tf\n",
    "#import cv2\n",
    "import matplotlib.pyplot as plt\n",
    "import matplotlib.image as mpimg\n",
    "\n",
    "\n",
    "import keras\n",
    "from keras.preprocessing import image\n",
    "from keras import layers, models\n",
    "from tensorflow.keras import Sequential\n",
    "from tensorflow.keras.layers import Dense,Conv2D, Dropout,Activation,MaxPooling2D,Flatten\n",
    "from keras.preprocessing.image import ImageDataGenerator\n",
    "from tensorflow.keras.optimizers import RMSprop, SGD\n",
    "\n",
    "#pip install sklearn\n",
    "#pip install scikit-image\n",
    "from sklearn.model_selection import train_test_split\n",
    "#from skimage import color, io\n",
    "#from scipy.misc import imresize  ## deprecated\n",
    "from PIL import Image\n",
    "\n",
    "import datetime"
   ]
  },
  {
   "cell_type": "markdown",
   "id": "5c6c30da",
   "metadata": {},
   "source": [
    "# Carga de imágenes"
   ]
  },
  {
   "cell_type": "code",
   "execution_count": 4,
   "id": "66faade5",
   "metadata": {},
   "outputs": [
    {
     "name": "stdout",
     "output_type": "stream",
     "text": [
      "Found 16769 validated image filenames belonging to 12 classes.\n",
      "{'complex': 0, 'frog_eye_leaf_spot': 1, 'frog_eye_leaf_spot complex': 2, 'healthy': 3, 'powdery_mildew': 4, 'powdery_mildew complex': 5, 'rust': 6, 'rust complex': 7, 'rust frog_eye_leaf_spot': 8, 'scab': 9, 'scab frog_eye_leaf_spot': 10, 'scab frog_eye_leaf_spot complex': 11}\n",
      "Found 1863 validated image filenames belonging to 12 classes.\n",
      "{'complex': 0, 'frog_eye_leaf_spot': 1, 'frog_eye_leaf_spot complex': 2, 'healthy': 3, 'powdery_mildew': 4, 'powdery_mildew complex': 5, 'rust': 6, 'rust complex': 7, 'rust frog_eye_leaf_spot': 8, 'scab': 9, 'scab frog_eye_leaf_spot': 10, 'scab frog_eye_leaf_spot complex': 11}\n"
     ]
    }
   ],
   "source": [
    "#Tamaño de la imagen\n",
    "ih, iw = 120, 120\n",
    "#Forma de la imagen: alto, ancho y número de canales\n",
    "input_shape = (ih, iw, 3)\n",
    "\n",
    "\n",
    "#Número de clases\n",
    "num_class = 12\n",
    "#Cuantas veces entrenar\n",
    "epochs = 30\n",
    "\n",
    "\n",
    "# Batch para hacer cada entrenamiento.\n",
    "# Lee 50 'batch_size' imagenes antes de actualizar los parametros.\n",
    "# Las carga a memoria\n",
    "batch_size = 50 #1\n",
    "\n",
    "\n",
    "# Número de imagenes en train\n",
    "num_train = 16769 #18632\n",
    "#Número de imagenes en test\n",
    "num_test = 1863\n",
    "\n",
    "\n",
    "epoch_steps = num_train // batch_size\n",
    "test_steps = num_test // batch_size\n",
    "\n",
    "\n",
    "\"\"\" Imágenes de entrenamiento \"\"\"\n",
    "train_f = pd.read_csv('train.csv')\n",
    "\n",
    "gentrain = ImageDataGenerator(rescale = 1. / 255)\n",
    "\n",
    "train_ds = gentrain.flow_from_dataframe(train_f,directory = 'train_set',\n",
    "                                             x_col = 'image',\n",
    "                                             y_col = 'labels',\n",
    "                                             batch_size=batch_size,\n",
    "                                             target_size=(iw, ih),\n",
    "                                             class_mode = 'categorical')\n",
    "\n",
    "print(train_ds.class_indices)\n",
    "\n",
    "\"\"\" Imágenes de prueba \"\"\"\n",
    "\n",
    "test_f = pd.read_csv('train.csv')\n",
    "\n",
    "gentest = ImageDataGenerator(rescale=1. / 255)\n",
    "\n",
    "test_ds = gentest.flow_from_dataframe(test_f,directory = 'test_set',\n",
    "                                             x_col = 'image',\n",
    "                                             y_col = 'labels',\n",
    "                                             batch_size=batch_size,\n",
    "                                             target_size=(iw, ih),\n",
    "                                             class_mode = 'categorical')\n",
    "\n",
    "print(test_ds.class_indices)\n",
    "\n",
    "#para cargar pesos de la red desde donde se quedó la ultima vez\n",
    "#filename = \"cvsd.h5\"\n",
    "#model.load_weights(filename)  #comentar si se comienza desde cero.\n",
    "###\n",
    "\n"
   ]
  },
  {
   "cell_type": "markdown",
   "id": "33e3efee",
   "metadata": {},
   "source": [
    "# Modelo y entrenamiento"
   ]
  },
  {
   "cell_type": "code",
   "execution_count": 5,
   "id": "6c972ec7",
   "metadata": {},
   "outputs": [
    {
     "name": "stdout",
     "output_type": "stream",
     "text": [
      "Logs:\n",
      "logs/fit/20220510-144851\n",
      "______________________________________________________________\n",
      "Epoch 1/30\n",
      "335/335 [==============================] - 7445s 22s/step - loss: 1.8662 - accuracy: 0.3128 - val_loss: 1.6001 - val_accuracy: 0.4162\n",
      "Epoch 2/30\n",
      "335/335 [==============================] - 7366s 22s/step - loss: 1.6465 - accuracy: 0.3911 - val_loss: 1.5221 - val_accuracy: 0.4643\n",
      "Epoch 3/30\n",
      "335/335 [==============================] - 7208s 22s/step - loss: 1.5660 - accuracy: 0.4358 - val_loss: 1.4593 - val_accuracy: 0.4973\n",
      "Epoch 4/30\n",
      "335/335 [==============================] - 7207s 22s/step - loss: 1.5080 - accuracy: 0.4539 - val_loss: 1.4605 - val_accuracy: 0.4622\n",
      "Epoch 5/30\n",
      "335/335 [==============================] - 7153s 21s/step - loss: 1.4695 - accuracy: 0.4658 - val_loss: 1.3986 - val_accuracy: 0.5270\n",
      "Epoch 6/30\n",
      "335/335 [==============================] - 7204s 22s/step - loss: 1.4208 - accuracy: 0.4878 - val_loss: 1.3912 - val_accuracy: 0.5216\n",
      "Epoch 7/30\n",
      "335/335 [==============================] - 7223s 22s/step - loss: 1.3792 - accuracy: 0.5048 - val_loss: 1.3611 - val_accuracy: 0.5605\n",
      "Epoch 8/30\n",
      "335/335 [==============================] - 7099s 21s/step - loss: 1.3435 - accuracy: 0.5278 - val_loss: 1.3225 - val_accuracy: 0.5665\n",
      "Epoch 9/30\n",
      "335/335 [==============================] - 7021s 21s/step - loss: 1.2967 - accuracy: 0.5364 - val_loss: 1.2808 - val_accuracy: 0.5762\n",
      "Epoch 10/30\n",
      "335/335 [==============================] - 7192s 21s/step - loss: 1.2614 - accuracy: 0.5492 - val_loss: 1.2689 - val_accuracy: 0.5919\n",
      "Epoch 11/30\n",
      "335/335 [==============================] - 7170s 21s/step - loss: 1.2184 - accuracy: 0.5664 - val_loss: 1.2794 - val_accuracy: 0.5773\n",
      "Epoch 12/30\n",
      "335/335 [==============================] - 7254s 22s/step - loss: 1.1869 - accuracy: 0.5784 - val_loss: 1.2269 - val_accuracy: 0.5946\n",
      "Epoch 13/30\n",
      "335/335 [==============================] - 7286s 22s/step - loss: 1.1559 - accuracy: 0.5942 - val_loss: 1.2005 - val_accuracy: 0.6108\n",
      "Epoch 14/30\n",
      "335/335 [==============================] - 7471s 22s/step - loss: 1.1257 - accuracy: 0.6015 - val_loss: 1.2306 - val_accuracy: 0.5968\n",
      "Epoch 15/30\n",
      "335/335 [==============================] - 7291s 22s/step - loss: 1.0994 - accuracy: 0.6134 - val_loss: 1.2079 - val_accuracy: 0.6049\n",
      "Epoch 16/30\n",
      "335/335 [==============================] - 7157s 21s/step - loss: 1.0740 - accuracy: 0.6189 - val_loss: 1.1771 - val_accuracy: 0.6162\n",
      "Epoch 17/30\n",
      "335/335 [==============================] - 7637s 23s/step - loss: 1.0514 - accuracy: 0.6250 - val_loss: 1.1813 - val_accuracy: 0.6151\n",
      "Epoch 18/30\n",
      "335/335 [==============================] - 7156s 21s/step - loss: 1.0124 - accuracy: 0.6413 - val_loss: 1.1448 - val_accuracy: 0.6168\n",
      "Epoch 19/30\n",
      "335/335 [==============================] - 7218s 22s/step - loss: 0.9978 - accuracy: 0.6448 - val_loss: 1.1773 - val_accuracy: 0.6189\n",
      "Epoch 20/30\n",
      "335/335 [==============================] - 7164s 21s/step - loss: 0.9814 - accuracy: 0.6504 - val_loss: 1.1916 - val_accuracy: 0.6086\n",
      "Epoch 21/30\n",
      "335/335 [==============================] - 7166s 21s/step - loss: 0.9587 - accuracy: 0.6554 - val_loss: 1.1523 - val_accuracy: 0.6254\n",
      "Epoch 22/30\n",
      "335/335 [==============================] - 7216s 22s/step - loss: 0.9446 - accuracy: 0.6572 - val_loss: 1.1554 - val_accuracy: 0.6114\n",
      "Epoch 23/30\n",
      "335/335 [==============================] - 8013s 24s/step - loss: 0.9159 - accuracy: 0.6712 - val_loss: 1.1793 - val_accuracy: 0.6227\n",
      "Epoch 24/30\n",
      "335/335 [==============================] - 8202s 24s/step - loss: 0.9044 - accuracy: 0.6753 - val_loss: 1.2078 - val_accuracy: 0.6184\n",
      "Epoch 25/30\n",
      "335/335 [==============================] - 7278s 22s/step - loss: 0.8890 - accuracy: 0.6808 - val_loss: 1.1667 - val_accuracy: 0.6189\n",
      "Epoch 26/30\n",
      "335/335 [==============================] - 7804s 23s/step - loss: 0.8766 - accuracy: 0.6827 - val_loss: 1.1679 - val_accuracy: 0.6103\n",
      "Epoch 27/30\n",
      "335/335 [==============================] - 8068s 24s/step - loss: 0.8531 - accuracy: 0.6938 - val_loss: 1.2099 - val_accuracy: 0.6205\n",
      "Epoch 28/30\n",
      "335/335 [==============================] - 7643s 23s/step - loss: 0.8439 - accuracy: 0.6944 - val_loss: 1.2187 - val_accuracy: 0.6238\n",
      "Epoch 29/30\n",
      "335/335 [==============================] - 7368s 22s/step - loss: 0.8345 - accuracy: 0.6950 - val_loss: 1.1718 - val_accuracy: 0.6222\n",
      "Epoch 30/30\n",
      "335/335 [==============================] - 5948s 18s/step - loss: 0.8182 - accuracy: 0.7038 - val_loss: 1.2263 - val_accuracy: 0.6070\n"
     ]
    }
   ],
   "source": [
    "model = Sequential()\n",
    "model.add(Conv2D(10, (3, 3), input_shape=(ih, iw,3))) #50, 50\n",
    "model.add(Activation('relu'))\n",
    "model.add(MaxPooling2D(pool_size=(2, 2)))\n",
    "#model.add(Dropout(0.2))\n",
    "\n",
    "#model.add(Conv2D(10, (5, 5)))\n",
    "#model.add(Activation('relu'))\n",
    "#model.add(MaxPooling2D(pool_size=(2, 2)))\n",
    "#model.add(Dropout(0.5))\n",
    "\n",
    "model.add(Conv2D(20, (3, 3)))\n",
    "model.add(Activation('relu'))\n",
    "model.add(MaxPooling2D(pool_size=(2, 2)))\n",
    "model.add(Dropout(0.5))\n",
    "\n",
    "model.add(Flatten())\n",
    "model.add(Dense(64))\n",
    "model.add(Activation('relu'))\n",
    "model.add(Dropout(0.5))\n",
    "model.add(Dense(12))\n",
    "model.add(Activation('softmax'))\n",
    "\n",
    "\n",
    "model.compile(loss='categorical_crossentropy',\n",
    "              optimizer='adam',\n",
    "              metrics=['accuracy'])\n",
    "\n",
    "\n",
    "log_dir=\"logs/fit/\" + datetime.datetime.now().strftime(\"%Y%m%d-%H%M%S\")\n",
    "tbCallBack = keras.callbacks.TensorBoard(log_dir=log_dir,\n",
    "                                         histogram_freq=1, \n",
    "                                         write_graph=True, \n",
    "                                         write_images=True)\n",
    "#python -m tensorboard.main --logdir=/Graph  <- Para correr Tensor board\n",
    "#tensorboard  --logdir Graph/\n",
    "print('Logs:')\n",
    "print(log_dir)\n",
    "print('______________________________________________________________')\n",
    "\n",
    "\n",
    "history = model.fit_generator(\n",
    "                train_ds,\n",
    "                steps_per_epoch=epoch_steps,\n",
    "                epochs=epochs,\n",
    "                validation_data=test_ds,\n",
    "                validation_steps=test_steps,\n",
    "                callbacks=[tbCallBack]\n",
    "                )"
   ]
  },
  {
   "cell_type": "markdown",
   "id": "797ce68e",
   "metadata": {},
   "source": [
    "## Guardando los pesos"
   ]
  },
  {
   "cell_type": "code",
   "execution_count": 6,
   "id": "0618f7e5",
   "metadata": {},
   "outputs": [],
   "source": [
    "model.save_weights('Conv2D_weights_no_fitting4.h5')"
   ]
  },
  {
   "cell_type": "markdown",
   "id": "80d305f7",
   "metadata": {},
   "source": [
    "# Resumen del modelo y gráficas"
   ]
  },
  {
   "cell_type": "code",
   "execution_count": 7,
   "id": "29859a27",
   "metadata": {},
   "outputs": [
    {
     "name": "stdout",
     "output_type": "stream",
     "text": [
      "dict_keys(['loss', 'accuracy', 'val_loss', 'val_accuracy'])\n"
     ]
    },
    {
     "data": {
      "image/png": "[encoded data removed]",
      "text/plain": [
       "<Figure size 432x288 with 1 Axes>"
      ]
     },
     "metadata": {
      "needs_background": "light"
     },
     "output_type": "display_data"
    },
    {
     "data": {
      "image/png": "[encoded data removed]",
      "text/plain": [
       "<Figure size 432x288 with 1 Axes>"
      ]
     },
     "metadata": {
      "needs_background": "light"
     },
     "output_type": "display_data"
    }
   ],
   "source": [
    "print(history.history.keys())\n",
    "\n",
    "plt.style.use('bmh')\n",
    "# summarize history for accuracy\n",
    "plt.plot(history.history['accuracy'])\n",
    "plt.plot(history.history['val_accuracy'])\n",
    "plt.title('model accuracy')\n",
    "plt.ylabel('accuracy')\n",
    "plt.xlabel('epoch')\n",
    "plt.legend(['train', 'test'], loc='upper left')\n",
    "plt.savefig('Conv2D_accuracy_nofitting4.svg')\n",
    "plt.show()\n",
    "\n",
    "# summarize history for loss\n",
    "plt.plot(history.history['loss'])\n",
    "plt.plot(history.history['val_loss'])\n",
    "plt.title('model loss')\n",
    "plt.ylabel('loss')\n",
    "plt.xlabel('epoch')\n",
    "plt.legend(['train', 'test'], loc='upper left')\n",
    "plt.savefig('Conv2D_loss_nofitting4.svg')\n",
    "plt.show()"
   ]
  },
  {
   "cell_type": "code",
   "execution_count": null,
   "id": "49a2e9cd",
   "metadata": {},
   "outputs": [],
   "source": []
  }
 ],
 "metadata": {
  "kernelspec": {
   "display_name": "Python 3 (ipykernel)",
   "language": "python",
   "name": "python3"
  },
  "language_info": {
   "codemirror_mode": {
    "name": "ipython",
    "version": 3
   },
   "file_extension": ".py",
   "mimetype": "text/x-python",
   "name": "python",
   "nbconvert_exporter": "python",
   "pygments_lexer": "ipython3",
   "version": "3.7.13"
  }
 },
 "nbformat": 4,
 "nbformat_minor": 5
}
