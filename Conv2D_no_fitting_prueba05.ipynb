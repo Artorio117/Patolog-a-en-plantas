{
  "nbformat": 4,
  "nbformat_minor": 0,
  "metadata": {
    "colab": {
      "name": "Conv2D_no_fitting_prueba05.ipynb",
      "provenance": [],
      "collapsed_sections": [],
      "authorship_tag": "ABX9TyOR16otUfnI6Y3CneVO2LCU",
      "include_colab_link": true
    },
    "kernelspec": {
      "name": "python3",
      "display_name": "Python 3"
    },
    "language_info": {
      "name": "python"
    }
  },
  "cells": [
    {
      "cell_type": "markdown",
      "metadata": {
        "id": "view-in-github",
        "colab_type": "text"
      },
      "source": [
        "<a href=\"https://colab.research.google.com/github/Artorio117/Patolog-a-en-plantas/blob/main/Conv2D_no_fitting_prueba05.ipynb\" target=\"_parent\"><img src=\"https://colab.research.google.com/assets/colab-badge.svg\" alt=\"Open In Colab\"/></a>"
      ]
    },
    {
      "cell_type": "code",
      "source": [
        "%tensorflow_version 2.x\n",
        "import tensorflow as tf\n",
        "device_name = tf.test.gpu_device_name()\n",
        "if device_name != '/device:GPU:0':\n",
        "  raise SystemError('GPU device not found')\n",
        "print('Found GPU at: {}'.format(device_name))"
      ],
      "metadata": {
        "colab": {
          "base_uri": "https://localhost:8080/"
        },
        "id": "n8XqbLkwpY0y",
        "outputId": "c17dee1c-9551-4e76-9b0b-388336b14979"
      },
      "execution_count": null,
      "outputs": [
        {
          "output_type": "stream",
          "name": "stdout",
          "text": [
            "Found GPU at: /device:GPU:0\n"
          ]
        }
      ]
    },
    {
      "cell_type": "code",
      "execution_count": 1,
      "metadata": {
        "id": "7GusTopJpVXH"
      },
      "outputs": [],
      "source": [
        "import os\n",
        "from os import listdir\n",
        "from os.path import isfile,isdir, join\n",
        "\n",
        "\n",
        "from glob import glob\n",
        "import numpy as np\n",
        "import pandas as pd\n",
        "import matplotlib.pyplot as plt\n",
        "import matplotlib.image as mpimg\n",
        "\n",
        "\n",
        "import keras\n",
        "import tensorflow as tf\n",
        "from keras.models import load_model\n",
        "\n",
        "from keras.preprocessing import image\n",
        "from keras import layers, models\n",
        "from tensorflow.keras import Sequential\n",
        "from tensorflow.keras.layers import Dense,Conv2D, Dropout,Activation,MaxPooling2D,Flatten\n",
        "from keras.preprocessing.image import ImageDataGenerator\n",
        "from tensorflow.keras.optimizers import RMSprop, SGD\n",
        "\n",
        "#pip install sklearn\n",
        "#pip install scikit-image\n",
        "from sklearn.model_selection import train_test_split\n",
        "#from skimage import color, io\n",
        "#from scipy.misc import imresize  ## deprecated\n",
        "from PIL import Image\n",
        "\n",
        "import datetime"
      ]
    },
    {
      "cell_type": "code",
      "source": [
        "! pip install kaggle\n",
        "! mkdir ~/.kaggle\n",
        "! cp kaggle.json ~/.kaggle/\n",
        "! chmod 600 ~/.kaggle/kaggle.json "
      ],
      "metadata": {
        "id": "poAEEosnpm3U",
        "colab": {
          "base_uri": "https://localhost:8080/"
        },
        "outputId": "5ad48161-9e60-4ae0-f4c5-61e93454975b"
      },
      "execution_count": 3,
      "outputs": [
        {
          "output_type": "stream",
          "name": "stdout",
          "text": [
            "Requirement already satisfied: kaggle in /usr/local/lib/python3.7/dist-packages (1.5.12)\n",
            "Requirement already satisfied: requests in /usr/local/lib/python3.7/dist-packages (from kaggle) (2.23.0)\n",
            "Requirement already satisfied: python-slugify in /usr/local/lib/python3.7/dist-packages (from kaggle) (6.1.2)\n",
            "Requirement already satisfied: tqdm in /usr/local/lib/python3.7/dist-packages (from kaggle) (4.64.0)\n",
            "Requirement already satisfied: urllib3 in /usr/local/lib/python3.7/dist-packages (from kaggle) (1.24.3)\n",
            "Requirement already satisfied: six>=1.10 in /usr/local/lib/python3.7/dist-packages (from kaggle) (1.15.0)\n",
            "Requirement already satisfied: python-dateutil in /usr/local/lib/python3.7/dist-packages (from kaggle) (2.8.2)\n",
            "Requirement already satisfied: certifi in /usr/local/lib/python3.7/dist-packages (from kaggle) (2021.10.8)\n",
            "Requirement already satisfied: text-unidecode>=1.3 in /usr/local/lib/python3.7/dist-packages (from python-slugify->kaggle) (1.3)\n",
            "Requirement already satisfied: chardet<4,>=3.0.2 in /usr/local/lib/python3.7/dist-packages (from requests->kaggle) (3.0.4)\n",
            "Requirement already satisfied: idna<3,>=2.5 in /usr/local/lib/python3.7/dist-packages (from requests->kaggle) (2.10)\n",
            "mkdir: cannot create directory ‘/root/.kaggle’: File exists\n"
          ]
        }
      ]
    },
    {
      "cell_type": "code",
      "source": [
        "! kaggle competitions download -c plant-pathology-2021-fgvc8"
      ],
      "metadata": {
        "id": "zWhvbirepope",
        "colab": {
          "base_uri": "https://localhost:8080/"
        },
        "outputId": "496e9333-3cfd-46ee-f66d-2948e22a4eb9"
      },
      "execution_count": null,
      "outputs": [
        {
          "output_type": "stream",
          "name": "stdout",
          "text": [
            "Downloading plant-pathology-2021-fgvc8.zip to /content\n",
            " 76% 11.4G/14.9G [01:29<00:19, 189MB/s]"
          ]
        }
      ]
    },
    {
      "cell_type": "code",
      "source": [
        "! unzip plant-pathology-2021-fgvc8"
      ],
      "metadata": {
        "id": "RUTFSI3Epuek"
      },
      "execution_count": null,
      "outputs": []
    },
    {
      "cell_type": "code",
      "source": [
        "#Tamaño de la imagen\n",
        "ih, iw = 120, 120\n",
        "\n",
        "#Cuantas veces entrenar\n",
        "epochs = 30\n",
        "\n",
        "\n",
        "# Batch para hacer cada entrenamiento.\n",
        "batch_size = 50 #1\n",
        "\n",
        "\n",
        "# Número de imagenes en train\n",
        "num_train = 16769 #18632\n",
        "#Número de imagenes en test\n",
        "num_test = 1863\n",
        "\n",
        "\n",
        "epoch_steps = num_train // batch_size\n",
        "test_steps = num_test // batch_size\n",
        "\n",
        "\n",
        "#Carga del archivo\n",
        "etiquetas = pd.read_csv('train.csv')\n",
        "etiquetas[\"labels\"] = etiquetas[\"labels\"].apply(lambda x:x.split(\" \"))\n",
        "\n",
        "image_generator = ImageDataGenerator(rescale = 1. / 255,\n",
        "                                     validation_split=0.1)\n",
        "\n",
        "train_ds = image_generator.flow_from_dataframe(etiquetas,directory = 'train_images',\n",
        "                                             x_col = 'image',\n",
        "                                             y_col = 'labels',\n",
        "                                             batch_size=50,\n",
        "                                             target_size=(iw, ih),\n",
        "                                             subset='training',\n",
        "                                             class_mode = 'categorical',\n",
        "                                             classes=['healthy', 'rust',\n",
        "                                                      'scab', 'complex',\n",
        "                                                      'frog_eye_leaf_spot',\n",
        "                                                      'powdery_mildew'])\n",
        "\n",
        "test_ds = image_generator.flow_from_dataframe(etiquetas,directory = 'train_images',\n",
        "                                             x_col = 'image',\n",
        "                                             y_col = 'labels',\n",
        "                                             batch_size=50,\n",
        "                                             target_size=(iw, ih),\n",
        "                                             subset='validation',\n",
        "                                             class_mode = 'categorical',\n",
        "                                             classes=['healthy', 'rust',\n",
        "                                                      'scab', 'complex',\n",
        "                                                      'frog_eye_leaf_spot',\n",
        "                                                      'powdery_mildew'])\n",
        "\n",
        "\n",
        "\n",
        "#para cargar pesos de la red desde donde se quedó la ultima vez\n",
        "#filename = \"cvsd.h5\"\n",
        "#model.load_weights(filename)  #comentar si se comienza desde cero.\n",
        "###\n"
      ],
      "metadata": {
        "id": "gWQVYQqEpyQ3",
        "colab": {
          "base_uri": "https://localhost:8080/"
        },
        "outputId": "49b59771-239e-4a0c-bc03-676461576d28"
      },
      "execution_count": 5,
      "outputs": [
        {
          "output_type": "stream",
          "name": "stdout",
          "text": [
            "Found 16769 validated image filenames belonging to 6 classes.\n",
            "Found 1863 validated image filenames belonging to 6 classes.\n"
          ]
        }
      ]
    },
    {
      "cell_type": "code",
      "source": [
        "model = Sequential()\n",
        "model.add(Conv2D(10, (3, 3), input_shape=(ih, iw,3))) #50, 50\n",
        "model.add(Activation('relu'))\n",
        "model.add(MaxPooling2D(pool_size=(2, 2)))\n",
        "\n",
        "model.add(Conv2D(10, (3, 3)))\n",
        "model.add(Activation('relu'))\n",
        "model.add(MaxPooling2D(pool_size=(2, 2)))\n",
        "model.add(Dropout(0.2))\n",
        "\n",
        "model.add(Conv2D(20, (3, 3)))\n",
        "model.add(Activation('relu'))\n",
        "model.add(MaxPooling2D(pool_size=(2, 2)))\n",
        "model.add(Dropout(0.2))\n",
        "\n",
        "model.add(Flatten())\n",
        "model.add(Dense(64))\n",
        "model.add(Activation('relu'))\n",
        "model.add(Dropout(0.5))\n",
        "model.add(Dense(6))\n",
        "model.add(Activation('sigmoid'))\n",
        "\n",
        "\n",
        "model.compile(loss='binary_crossentropy',\n",
        "              optimizer='adam',\n",
        "              metrics=['accuracy'])\n",
        "\n",
        "\n",
        "log_dir=\"logs/fit/\" + datetime.datetime.now().strftime(\"%Y%m%d-%H%M%S\")\n",
        "tbCallBack = keras.callbacks.TensorBoard(log_dir=log_dir,\n",
        "                                         histogram_freq=1, \n",
        "                                         write_graph=True, \n",
        "                                         write_images=True)\n",
        "#python -m tensorboard.main --logdir=/Graph  <- Para correr Tensor board\n",
        "#tensorboard  --logdir Graph/\n",
        "print('Logs:')\n",
        "print(log_dir)\n",
        "print('______________________________________________________________')\n",
        "\n",
        "\n",
        "from keras.callbacks import ModelCheckpoint, EarlyStopping\n",
        "checkpoint = ModelCheckpoint(\"Conv2D_no_fittin_prueba05.h5\",\n",
        "                             monitor='val_accuracy', verbose=1,\n",
        "                             save_best_only=True, save_weights_only=False,\n",
        "                             save_freq='epoch', mode='auto')\n",
        "\n",
        "history = model.fit_generator(\n",
        "                train_ds,\n",
        "                epochs=epochs,\n",
        "                validation_data=test_ds,\n",
        "                validation_steps=test_steps,\n",
        "                callbacks=[tbCallBack, checkpoint]\n",
        "                )\n"
      ],
      "metadata": {
        "id": "DVrUOgMnp1tb",
        "colab": {
          "base_uri": "https://localhost:8080/"
        },
        "outputId": "916d8f3b-37f6-4d06-c31c-fdc984b74489"
      },
      "execution_count": null,
      "outputs": [
        {
          "metadata": {
            "tags": null
          },
          "name": "stdout",
          "output_type": "stream",
          "text": [
            "Logs:\n",
            "logs/fit/20220513-160029\n",
            "______________________________________________________________\n"
          ]
        },
        {
          "metadata": {
            "tags": null
          },
          "name": "stderr",
          "output_type": "stream",
          "text": [
            "/usr/local/lib/python3.7/dist-packages/ipykernel_launcher.py:52: UserWarning: `Model.fit_generator` is deprecated and will be removed in a future version. Please use `Model.fit`, which supports generators.\n"
          ]
        },
        {
          "output_type": "stream",
          "name": "stdout",
          "text": [
            "Epoch 1/30\n",
            "336/336 [==============================] - ETA: 0s - loss: 0.4535 - accuracy: 0.2889\n",
            "Epoch 1: val_accuracy improved from -inf to 0.40000, saving model to Conv2D_no_fittin_prueba05.h5\n",
            "336/336 [==============================] - 2498s 7s/step - loss: 0.4535 - accuracy: 0.2889 - val_loss: 0.3956 - val_accuracy: 0.4000\n",
            "Epoch 2/30\n",
            "336/336 [==============================] - ETA: 0s - loss: 0.4117 - accuracy: 0.3774\n",
            "Epoch 2: val_accuracy improved from 0.40000 to 0.47081, saving model to Conv2D_no_fittin_prueba05.h5\n",
            "336/336 [==============================] - 2485s 7s/step - loss: 0.4117 - accuracy: 0.3774 - val_loss: 0.3755 - val_accuracy: 0.4708\n",
            "Epoch 3/30\n",
            "336/336 [==============================] - ETA: 0s - loss: 0.3874 - accuracy: 0.4312\n",
            "Epoch 3: val_accuracy improved from 0.47081 to 0.53189, saving model to Conv2D_no_fittin_prueba05.h5\n",
            "336/336 [==============================] - 2483s 7s/step - loss: 0.3874 - accuracy: 0.4312 - val_loss: 0.3492 - val_accuracy: 0.5319\n",
            "Epoch 4/30\n",
            "336/336 [==============================] - ETA: 0s - loss: 0.3737 - accuracy: 0.4621\n",
            "Epoch 4: val_accuracy did not improve from 0.53189\n",
            "336/336 [==============================] - 2500s 7s/step - loss: 0.3737 - accuracy: 0.4621 - val_loss: 0.3353 - val_accuracy: 0.5303\n",
            "Epoch 5/30\n",
            "336/336 [==============================] - ETA: 0s - loss: 0.3630 - accuracy: 0.4822\n",
            "Epoch 5: val_accuracy improved from 0.53189 to 0.53946, saving model to Conv2D_no_fittin_prueba05.h5\n",
            "336/336 [==============================] - 2495s 7s/step - loss: 0.3630 - accuracy: 0.4822 - val_loss: 0.3262 - val_accuracy: 0.5395\n",
            "Epoch 6/30\n",
            "336/336 [==============================] - ETA: 0s - loss: 0.3542 - accuracy: 0.5007\n",
            "Epoch 6: val_accuracy improved from 0.53946 to 0.56216, saving model to Conv2D_no_fittin_prueba05.h5\n",
            "336/336 [==============================] - 2509s 7s/step - loss: 0.3542 - accuracy: 0.5007 - val_loss: 0.3238 - val_accuracy: 0.5622\n",
            "Epoch 7/30\n",
            "336/336 [==============================] - ETA: 0s - loss: 0.3470 - accuracy: 0.5179\n",
            "Epoch 7: val_accuracy improved from 0.56216 to 0.60811, saving model to Conv2D_no_fittin_prueba05.h5\n",
            "336/336 [==============================] - 2522s 8s/step - loss: 0.3470 - accuracy: 0.5179 - val_loss: 0.3064 - val_accuracy: 0.6081\n",
            "Epoch 8/30\n",
            "336/336 [==============================] - ETA: 0s - loss: 0.3362 - accuracy: 0.5385\n",
            "Epoch 8: val_accuracy did not improve from 0.60811\n",
            "336/336 [==============================] - 2511s 7s/step - loss: 0.3362 - accuracy: 0.5385 - val_loss: 0.3020 - val_accuracy: 0.6059\n",
            "Epoch 9/30\n",
            "336/336 [==============================] - ETA: 0s - loss: 0.3310 - accuracy: 0.5533\n",
            "Epoch 9: val_accuracy improved from 0.60811 to 0.62054, saving model to Conv2D_no_fittin_prueba05.h5\n",
            "336/336 [==============================] - 2490s 7s/step - loss: 0.3310 - accuracy: 0.5533 - val_loss: 0.2955 - val_accuracy: 0.6205\n",
            "Epoch 10/30\n",
            "140/336 [===========>..................] - ETA: 22:00 - loss: 0.3263 - accuracy: 0.5630"
          ]
        }
      ]
    }
  ]
}